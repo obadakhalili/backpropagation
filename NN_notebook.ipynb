{
 "cells": [
  {
   "cell_type": "code",
   "execution_count": 13,
   "metadata": {},
   "outputs": [],
   "source": [
    "import numpy as np\n",
    "from sklearn.datasets import load_digits\n",
    "from sklearn.model_selection import train_test_split\n",
    "from NN import FCNN"
   ]
  },
  {
   "cell_type": "code",
   "execution_count": 9,
   "metadata": {},
   "outputs": [],
   "source": [
    "digits = load_digits()\n",
    "targets = np.array(\n",
    "    [[int(idx == digit) for idx in range(10)] for digit in digits.target]\n",
    ")\n",
    "X_train, X_test, y_train, y_test = train_test_split(\n",
    "    digits.data, targets, test_size=0.3, shuffle=False\n",
    ")"
   ]
  },
  {
   "cell_type": "code",
   "execution_count": 15,
   "metadata": {},
   "outputs": [],
   "source": [
    "FCNN(\n",
    "    X_train,\n",
    "    X_test,\n",
    "    [64, 10],\n",
    "    [\"relu\", \"softmax\"],\n",
    "    [\"relu_derivative\", \"softmax_derivative\"],\n",
    "    batch_size=100,\n",
    ")"
   ]
  }
 ],
 "metadata": {
  "interpreter": {
   "hash": "a63a0f65718a0636d8001d8b7c44a0eb0342c2f3417f2fa9e8b5542da6eb5dff"
  },
  "kernelspec": {
   "display_name": "Python 3.8.10 ('.venv': venv)",
   "language": "python",
   "name": "python3"
  },
  "language_info": {
   "codemirror_mode": {
    "name": "ipython",
    "version": 3
   },
   "file_extension": ".py",
   "mimetype": "text/x-python",
   "name": "python",
   "nbconvert_exporter": "python",
   "pygments_lexer": "ipython3",
   "version": "3.8.10"
  },
  "orig_nbformat": 4
 },
 "nbformat": 4,
 "nbformat_minor": 2
}
